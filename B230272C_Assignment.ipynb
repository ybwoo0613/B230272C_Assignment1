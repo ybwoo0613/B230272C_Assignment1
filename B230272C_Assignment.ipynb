{
 "cells": [
  {
   "cell_type": "code",
   "execution_count": 5,
   "id": "13dcf208-90b5-4974-9f70-4395502c8652",
   "metadata": {},
   "outputs": [
    {
     "name": "stdout",
     "output_type": "stream",
     "text": [
      "  |   |  \n",
      "--+---+--\n",
      "  |   |  \n",
      "--+---+--\n",
      "  |   |  \n"
     ]
    },
    {
     "name": "stdin",
     "output_type": "stream",
     "text": [
      "Player X, enter your move (1-9):  1\n"
     ]
    },
    {
     "name": "stdout",
     "output_type": "stream",
     "text": [
      "X |   |  \n",
      "--+---+--\n",
      "  |   |  \n",
      "--+---+--\n",
      "  |   |  \n"
     ]
    },
    {
     "name": "stdin",
     "output_type": "stream",
     "text": [
      "Player O, enter your move (1-9):  3\n"
     ]
    },
    {
     "name": "stdout",
     "output_type": "stream",
     "text": [
      "X |   | O\n",
      "--+---+--\n",
      "  |   |  \n",
      "--+---+--\n",
      "  |   |  \n"
     ]
    },
    {
     "name": "stdin",
     "output_type": "stream",
     "text": [
      "Player X, enter your move (1-9):  6\n"
     ]
    },
    {
     "name": "stdout",
     "output_type": "stream",
     "text": [
      "X |   | O\n",
      "--+---+--\n",
      "  |   | X\n",
      "--+---+--\n",
      "  |   |  \n"
     ]
    },
    {
     "name": "stdin",
     "output_type": "stream",
     "text": [
      "Player O, enter your move (1-9):  4\n"
     ]
    },
    {
     "name": "stdout",
     "output_type": "stream",
     "text": [
      "X |   | O\n",
      "--+---+--\n",
      "O |   | X\n",
      "--+---+--\n",
      "  |   |  \n"
     ]
    },
    {
     "name": "stdin",
     "output_type": "stream",
     "text": [
      "Player X, enter your move (1-9):  2\n"
     ]
    },
    {
     "name": "stdout",
     "output_type": "stream",
     "text": [
      "X | X | O\n",
      "--+---+--\n",
      "O |   | X\n",
      "--+---+--\n",
      "  |   |  \n"
     ]
    },
    {
     "name": "stdin",
     "output_type": "stream",
     "text": [
      "Player O, enter your move (1-9):  5\n"
     ]
    },
    {
     "name": "stdout",
     "output_type": "stream",
     "text": [
      "X | X | O\n",
      "--+---+--\n",
      "O | O | X\n",
      "--+---+--\n",
      "  |   |  \n"
     ]
    },
    {
     "name": "stdin",
     "output_type": "stream",
     "text": [
      "Player X, enter your move (1-9):  7\n"
     ]
    },
    {
     "name": "stdout",
     "output_type": "stream",
     "text": [
      "X | X | O\n",
      "--+---+--\n",
      "O | O | X\n",
      "--+---+--\n",
      "X |   |  \n"
     ]
    },
    {
     "name": "stdin",
     "output_type": "stream",
     "text": [
      "Player O, enter your move (1-9):  8\n"
     ]
    },
    {
     "name": "stdout",
     "output_type": "stream",
     "text": [
      "X | X | O\n",
      "--+---+--\n",
      "O | O | X\n",
      "--+---+--\n",
      "X | O |  \n"
     ]
    },
    {
     "name": "stdin",
     "output_type": "stream",
     "text": [
      "Player X, enter your move (1-9):  9\n"
     ]
    },
    {
     "name": "stdout",
     "output_type": "stream",
     "text": [
      "X | X | O\n",
      "--+---+--\n",
      "O | O | X\n",
      "--+---+--\n",
      "X | O | X\n",
      "It's a tie!\n"
     ]
    }
   ],
   "source": [
    "def tictactoe_board(board):\n",
    "    print(f\"{board['1']} | {board['2']} | {board['3']}\")\n",
    "    print(\"--+---+--\")\n",
    "    print(f\"{board['4']} | {board['5']} | {board['6']}\")\n",
    "    print(\"--+---+--\")\n",
    "    print(f\"{board['7']} | {board['8']} | {board['9']}\")\n",
    "\n",
    "def winner(board, player):\n",
    "    winning_combinations = [\n",
    "        ['1', '2', '3'],\n",
    "        ['4', '5', '6'],\n",
    "        ['7', '8', '9'],\n",
    "        ['1', '4', '7'],\n",
    "        ['2', '5', '8'],\n",
    "        ['3', '6', '9'],\n",
    "        ['1', '5', '9'],\n",
    "        ['3', '5', '7']\n",
    "    ]\n",
    "    for combination in winning_combinations:\n",
    "        if all(board[pos] == player for pos in combination):\n",
    "            return True\n",
    "    return False\n",
    "\n",
    "def board_full(board):\n",
    "    return all(board[pos] != ' ' for pos in board)\n",
    "\n",
    "def tic_tac_toe():\n",
    "    board = {str(num): ' ' for num in range(1, 10)}\n",
    "    current_player = 'X'\n",
    "    \n",
    "    while True:\n",
    "        tictactoe_board(board)\n",
    "        \n",
    "        move = input(f\"Player {current_player}, enter your move (1-9): \")\n",
    "        if move not in board or board[move] != ' ':\n",
    "            print(\"There is already something inside the grid. Please move again\")\n",
    "            continue\n",
    "        \n",
    "        board[move] = current_player\n",
    "        \n",
    "        if winner(board, current_player):\n",
    "            tictactoe_board(board)\n",
    "            print(f\"Player {current_player} wins!\")\n",
    "            break\n",
    "        \n",
    "        if board_full(board):\n",
    "            tictactoe_board(board)\n",
    "            print(\"It's a tie!\")\n",
    "            break\n",
    "        \n",
    "        current_player = 'O' if current_player == 'X' else 'X'\n",
    "\n",
    "tic_tac_toe()"
   ]
  },
  {
   "cell_type": "code",
   "execution_count": null,
   "id": "58979cdf-7344-45ae-81dc-a6df538ea0aa",
   "metadata": {},
   "outputs": [],
   "source": []
  }
 ],
 "metadata": {
  "kernelspec": {
   "display_name": "Python 3 (ipykernel)",
   "language": "python",
   "name": "python3"
  },
  "language_info": {
   "codemirror_mode": {
    "name": "ipython",
    "version": 3
   },
   "file_extension": ".py",
   "mimetype": "text/x-python",
   "name": "python",
   "nbconvert_exporter": "python",
   "pygments_lexer": "ipython3",
   "version": "3.11.7"
  }
 },
 "nbformat": 4,
 "nbformat_minor": 5
}
